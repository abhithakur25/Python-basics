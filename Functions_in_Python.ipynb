{
 "cells": [
  {
   "cell_type": "markdown",
   "id": "35c29d91",
   "metadata": {},
   "source": [
    "# Functions in Python"
   ]
  },
  {
   "cell_type": "markdown",
   "id": "f6e080a6",
   "metadata": {},
   "source": [
    "Create a function squared(), which takes x and y as arguments and returns the x**y value. For e.g., if x = 2 and y = 3 , then the output is 8."
   ]
  },
  {
   "cell_type": "code",
   "execution_count": 1,
   "id": "a3e6a626",
   "metadata": {},
   "outputs": [
    {
     "name": "stdout",
     "output_type": "stream",
     "text": [
      "8\n"
     ]
    }
   ],
   "source": [
    "x = 2\n",
    "y = 3\n",
    "z=x**y\n",
    "print(z)"
   ]
  },
  {
   "cell_type": "code",
   "execution_count": 8,
   "id": "e1fe4b03",
   "metadata": {},
   "outputs": [
    {
     "name": "stdout",
     "output_type": "stream",
     "text": [
      "6\n",
      "7\n",
      "279936\n"
     ]
    }
   ],
   "source": [
    "input_list=['6','7']\n",
    "x=int(input_list[0])\n",
    "print(x)\n",
    "y=int(input_list[1])\n",
    "print(y)\n",
    "def squared(x,y):\n",
    "    z=x**y\n",
    "    print(z)\n",
    "squared(x,y)"
   ]
  },
  {
   "cell_type": "code",
   "execution_count": 5,
   "id": "89efcf21",
   "metadata": {},
   "outputs": [
    {
     "name": "stdout",
     "output_type": "stream",
     "text": [
      "8\n"
     ]
    }
   ],
   "source": [
    "def squared(x,y):\n",
    "    z=x**y\n",
    "    print(z)\n",
    "squared(2,3)"
   ]
  },
  {
   "cell_type": "code",
   "execution_count": 9,
   "id": "da6a3fae",
   "metadata": {},
   "outputs": [
    {
     "data": {
      "text/plain": [
       "24"
      ]
     },
     "execution_count": 9,
     "metadata": {},
     "output_type": "execute_result"
    }
   ],
   "source": [
    "def fact(n):\n",
    "    facto=1\n",
    "    for i in range(1,n+1):\n",
    "        facto *=i\n",
    "    return facto\n",
    "fact(4)"
   ]
  },
  {
   "cell_type": "markdown",
   "id": "1d1f6dfc",
   "metadata": {},
   "source": [
    "# Function Arguments"
   ]
  },
  {
   "cell_type": "code",
   "execution_count": 10,
   "id": "0d845299",
   "metadata": {},
   "outputs": [],
   "source": [
    "def func(name, age=35):\n",
    "    print(\"name : \", name)\n",
    "    print(\"age : \", age)"
   ]
  },
  {
   "cell_type": "code",
   "execution_count": 11,
   "id": "d3da58e9",
   "metadata": {},
   "outputs": [
    {
     "name": "stdout",
     "output_type": "stream",
     "text": [
      "name :  Abhishek\n",
      "age :  25\n"
     ]
    }
   ],
   "source": [
    "func(\"Abhishek\", 25)"
   ]
  },
  {
   "cell_type": "code",
   "execution_count": 12,
   "id": "13607e92",
   "metadata": {},
   "outputs": [
    {
     "name": "stdout",
     "output_type": "stream",
     "text": [
      "name :  Abhishek\n",
      "age :  35\n"
     ]
    }
   ],
   "source": [
    "func(\"Abhishek\")"
   ]
  },
  {
   "cell_type": "code",
   "execution_count": 13,
   "id": "b52784a7",
   "metadata": {},
   "outputs": [
    {
     "name": "stdout",
     "output_type": "stream",
     "text": [
      "(1, 3, 'abc', 10.1)\n"
     ]
    }
   ],
   "source": [
    "def var_func(*args):\n",
    "    print(args)\n",
    "var_func(1,3,\"abc\", 10.10)"
   ]
  },
  {
   "cell_type": "code",
   "execution_count": null,
   "id": "0d33dcf5",
   "metadata": {},
   "outputs": [],
   "source": []
  }
 ],
 "metadata": {
  "kernelspec": {
   "display_name": "Python 3 (ipykernel)",
   "language": "python",
   "name": "python3"
  },
  "language_info": {
   "codemirror_mode": {
    "name": "ipython",
    "version": 3
   },
   "file_extension": ".py",
   "mimetype": "text/x-python",
   "name": "python",
   "nbconvert_exporter": "python",
   "pygments_lexer": "ipython3",
   "version": "3.9.7"
  }
 },
 "nbformat": 4,
 "nbformat_minor": 5
}
