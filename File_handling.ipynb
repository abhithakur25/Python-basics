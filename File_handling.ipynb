{
  "nbformat": 4,
  "nbformat_minor": 0,
  "metadata": {
    "colab": {
      "name": "File_handling.ipynb",
      "provenance": [],
      "collapsed_sections": [
        "Ar7DlqtvnFRf",
        "TUTU7y_rokv6",
        "4EoKR4gkrs1n",
        "AcQdEd5gs_aN",
        "YdOT_5CPvH-e",
        "4DOCTH1Dwz2P"
      ]
    },
    "kernelspec": {
      "name": "python3",
      "display_name": "Python 3"
    }
  },
  "cells": [
    {
      "cell_type": "markdown",
      "metadata": {
        "id": "HYgizb7Qjhlb",
        "colab_type": "text"
      },
      "source": [
        "# File I/O\n",
        "File is a named location on disk to store related information.\n",
        "\n",
        "When we want to read from or write to a file we need to open it first. When we are done, it needs to be closed, so that resources that are tied with the file are freed.\n",
        "\n",
        "File operation:\n",
        "\n",
        "1. Open a file\n",
        "\n",
        "2. Read or write (perform operation)\n",
        "\n",
        "3. Close the file"
      ]
    },
    {
      "cell_type": "markdown",
      "metadata": {
        "id": "l8Zcs1lgj9l0",
        "colab_type": "text"
      },
      "source": [
        "# 1. File Opening"
      ]
    },
    {
      "cell_type": "markdown",
      "metadata": {
        "id": "oOIe-4TBkEqx",
        "colab_type": "text"
      },
      "source": [
        "Python has a built-in function open() to open a file. This function returns a file object, also called a handle, as it is used to read or modify the file accordingly."
      ]
    },
    {
      "cell_type": "code",
      "metadata": {
        "id": "uBlL0_ZIj3ws",
        "colab_type": "code",
        "colab": {
          "base_uri": "https://localhost:8080/",
          "height": 166
        },
        "outputId": "2e9872e2-163a-4fbf-8b25-5c98cd4bfa7e"
      },
      "source": [
        "f = open('example.txt') # open file in current directory"
      ],
      "execution_count": 2,
      "outputs": [
        {
          "output_type": "error",
          "ename": "FileNotFoundError",
          "evalue": "ignored",
          "traceback": [
            "\u001b[0;31m---------------------------------------------------------------------------\u001b[0m",
            "\u001b[0;31mFileNotFoundError\u001b[0m                         Traceback (most recent call last)",
            "\u001b[0;32m<ipython-input-2-8a2a5ec0c803>\u001b[0m in \u001b[0;36m<module>\u001b[0;34m()\u001b[0m\n\u001b[0;32m----> 1\u001b[0;31m \u001b[0mf\u001b[0m \u001b[0;34m=\u001b[0m \u001b[0mopen\u001b[0m\u001b[0;34m(\u001b[0m\u001b[0;34m'example.txt'\u001b[0m\u001b[0;34m)\u001b[0m \u001b[0;31m# open file in current directory\u001b[0m\u001b[0;34m\u001b[0m\u001b[0;34m\u001b[0m\u001b[0m\n\u001b[0m",
            "\u001b[0;31mFileNotFoundError\u001b[0m: [Errno 2] No such file or directory: 'example.txt'"
          ]
        }
      ]
    },
    {
      "cell_type": "code",
      "metadata": {
        "id": "CFEJcaNGqlNV",
        "colab_type": "code",
        "colab": {
          "base_uri": "https://localhost:8080/",
          "height": 35
        },
        "outputId": "68037d36-7852-4ad2-fda4-a83381938759"
      },
      "source": [
        "!pwd"
      ],
      "execution_count": 3,
      "outputs": [
        {
          "output_type": "stream",
          "text": [
            "/content\n"
          ],
          "name": "stdout"
        }
      ]
    },
    {
      "cell_type": "markdown",
      "metadata": {
        "id": "Ar7DlqtvnFRf",
        "colab_type": "text"
      },
      "source": [
        "# 2. File Modes"
      ]
    },
    {
      "cell_type": "markdown",
      "metadata": {
        "id": "IEJ2LwwanJb4",
        "colab_type": "text"
      },
      "source": [
        "'r' Open a file for reading. (default)\n",
        "\n",
        "'w' Open a file for writing. Creates a new file if it does not exist or truncates the file if it exists.\n",
        "\n",
        "'x' Open a file for exclusive creation. If the file already exists, the operation fails.\n",
        "\n",
        "'a' Open for appending at the end of the file without truncating it. Creates a new file if it does not exist.\n",
        "\n",
        "'t' Open in text mode. (default)\n",
        "\n",
        "'b' Open in binary mode.\n",
        "\n",
        "'+' Open a file for updating (reading and writing)"
      ]
    },
    {
      "cell_type": "code",
      "metadata": {
        "id": "ViBQdLNSkLS2",
        "colab_type": "code",
        "colab": {
          "base_uri": "https://localhost:8080/",
          "height": 235
        },
        "outputId": "ce0e64d7-6d39-440e-fe30-61a7b5cde2d8"
      },
      "source": [
        "f = open('example.txt') # equivalent to 'r' \n",
        "f = open('example.txt', 'r')\n",
        "\n",
        "# write mode\n",
        "f = open('example.txt', 'w')"
      ],
      "execution_count": 4,
      "outputs": [
        {
          "output_type": "error",
          "ename": "FileNotFoundError",
          "evalue": "ignored",
          "traceback": [
            "\u001b[0;31m---------------------------------------------------------------------------\u001b[0m",
            "\u001b[0;31mFileNotFoundError\u001b[0m                         Traceback (most recent call last)",
            "\u001b[0;32m<ipython-input-4-123d0bf159f9>\u001b[0m in \u001b[0;36m<module>\u001b[0;34m()\u001b[0m\n\u001b[0;32m----> 1\u001b[0;31m \u001b[0mf\u001b[0m \u001b[0;34m=\u001b[0m \u001b[0mopen\u001b[0m\u001b[0;34m(\u001b[0m\u001b[0;34m'example.txt'\u001b[0m\u001b[0;34m)\u001b[0m \u001b[0;31m# equivalent to 'r'\u001b[0m\u001b[0;34m\u001b[0m\u001b[0;34m\u001b[0m\u001b[0m\n\u001b[0m\u001b[1;32m      2\u001b[0m \u001b[0mf\u001b[0m \u001b[0;34m=\u001b[0m \u001b[0mopen\u001b[0m\u001b[0;34m(\u001b[0m\u001b[0;34m'example.txt'\u001b[0m\u001b[0;34m,\u001b[0m \u001b[0;34m'r'\u001b[0m\u001b[0;34m)\u001b[0m\u001b[0;34m\u001b[0m\u001b[0;34m\u001b[0m\u001b[0m\n\u001b[1;32m      3\u001b[0m \u001b[0;34m\u001b[0m\u001b[0m\n\u001b[1;32m      4\u001b[0m \u001b[0;31m# write mode\u001b[0m\u001b[0;34m\u001b[0m\u001b[0;34m\u001b[0m\u001b[0;34m\u001b[0m\u001b[0m\n\u001b[1;32m      5\u001b[0m \u001b[0mf\u001b[0m \u001b[0;34m=\u001b[0m \u001b[0mopen\u001b[0m\u001b[0;34m(\u001b[0m\u001b[0;34m'example.txt'\u001b[0m\u001b[0;34m,\u001b[0m \u001b[0;34m'w'\u001b[0m\u001b[0;34m)\u001b[0m\u001b[0;34m\u001b[0m\u001b[0;34m\u001b[0m\u001b[0m\n",
            "\u001b[0;31mFileNotFoundError\u001b[0m: [Errno 2] No such file or directory: 'example.txt'"
          ]
        }
      ]
    },
    {
      "cell_type": "markdown",
      "metadata": {
        "id": "TUTU7y_rokv6",
        "colab_type": "text"
      },
      "source": [
        "# 3. Closing a File\n"
      ]
    },
    {
      "cell_type": "markdown",
      "metadata": {
        "id": "xNbE60sMo6sO",
        "colab_type": "text"
      },
      "source": [
        "Closing a file will free up the resources that were tied with the file and is done using the close() method.\n"
      ]
    },
    {
      "cell_type": "code",
      "metadata": {
        "id": "ICnl7Xxdo2Kj",
        "colab_type": "code",
        "colab": {}
      },
      "source": [
        "f.close()"
      ],
      "execution_count": 0,
      "outputs": []
    },
    {
      "cell_type": "markdown",
      "metadata": {
        "id": "0LEpkhVVrIHA",
        "colab_type": "text"
      },
      "source": [
        "This method is not entirely safe. If an exception occurs when we are performing some operation with the file, the code exits without closing the file.\n",
        "\n",
        "A safer way is to use a try...finally block."
      ]
    },
    {
      "cell_type": "code",
      "metadata": {
        "id": "xNs9z3SNpEJ7",
        "colab_type": "code",
        "colab": {}
      },
      "source": [
        "try:\n",
        "  f = open('example.txt')\n",
        "  # perform operations\n",
        "finally:\n",
        "  f.close()\n",
        "  \n",
        "'''\n",
        "This way, we are guaranteed that the file is properly closed even \n",
        "if an exception is raised, causing program flow to stop.\n",
        "'''"
      ],
      "execution_count": 0,
      "outputs": []
    },
    {
      "cell_type": "markdown",
      "metadata": {
        "id": "4EoKR4gkrs1n",
        "colab_type": "text"
      },
      "source": [
        "# 4. Writing to a File"
      ]
    },
    {
      "cell_type": "markdown",
      "metadata": {
        "id": "ggxunJXmsS4X",
        "colab_type": "text"
      },
      "source": [
        "In order to write into a file we need to open it in **write 'w', append 'a' or exclusive creation 'x' mode**.\n",
        "\n",
        "We need to be careful with the 'w' mode as it will overwrite into the file if it already exists. All previous data are erased.\n",
        "\n",
        "Writing a string or sequence of bytes (for binary files) is done using **write()** method. This method returns the number of characters written to the file."
      ]
    },
    {
      "cell_type": "code",
      "metadata": {
        "id": "PxzdePZZrMoc",
        "colab_type": "code",
        "colab": {
          "base_uri": "https://localhost:8080/",
          "height": 35
        },
        "outputId": "6d684e28-fcb3-4b55-b2b7-405a6df1fd34"
      },
      "source": [
        "f = open(\"text.txt\", 'w')\n",
        "f.write(\"God loves each of us\\n\")\n",
        "f.write(\"as if there were only one of us.\")\n",
        "f.close()\n",
        "'''\n",
        "This program will create a new file named 'test.txt' if it does not exist. If it does exist, it is overwritten.\n",
        "'''"
      ],
      "execution_count": 5,
      "outputs": [
        {
          "output_type": "execute_result",
          "data": {
            "text/plain": [
              "\"\\nThis program will create a new file named 'test.txt' if it does not exist. If it does exist, it is overwritten.\\n\""
            ]
          },
          "metadata": {
            "tags": []
          },
          "execution_count": 5
        }
      ]
    },
    {
      "cell_type": "markdown",
      "metadata": {
        "id": "AcQdEd5gs_aN",
        "colab_type": "text"
      },
      "source": [
        "# 5. Reading a File"
      ]
    },
    {
      "cell_type": "markdown",
      "metadata": {
        "id": "Kce3mx-atC2p",
        "colab_type": "text"
      },
      "source": [
        "We can use the read(size) method to read in size number of data. <br>\n",
        "If size parameter is not specified, it reads and returns up to the end of the file."
      ]
    },
    {
      "cell_type": "code",
      "metadata": {
        "id": "AD0h3nUTsdMi",
        "colab_type": "code",
        "colab": {
          "base_uri": "https://localhost:8080/",
          "height": 35
        },
        "outputId": "9d2467e4-3a32-49f0-945a-61b4a36023a9"
      },
      "source": [
        "# open a file and read\n",
        "f = open(\"text.txt\", 'r')\n",
        "f.read()"
      ],
      "execution_count": 6,
      "outputs": [
        {
          "output_type": "execute_result",
          "data": {
            "text/plain": [
              "'God loves each of us\\nas if there were only one of us.'"
            ]
          },
          "metadata": {
            "tags": []
          },
          "execution_count": 6
        }
      ]
    },
    {
      "cell_type": "code",
      "metadata": {
        "id": "uRxOjlmhtgS8",
        "colab_type": "code",
        "colab": {
          "base_uri": "https://localhost:8080/",
          "height": 35
        },
        "outputId": "b223d4bf-51e0-4d0e-ebae-9e574b322d27"
      },
      "source": [
        "# open and read with size = 4\n",
        "f = open(\"text.txt\", 'r')\n",
        "f.read(4)"
      ],
      "execution_count": 7,
      "outputs": [
        {
          "output_type": "execute_result",
          "data": {
            "text/plain": [
              "'God '"
            ]
          },
          "metadata": {
            "tags": []
          },
          "execution_count": 7
        }
      ]
    },
    {
      "cell_type": "code",
      "metadata": {
        "id": "3Lq2HcDOtoD-",
        "colab_type": "code",
        "colab": {
          "base_uri": "https://localhost:8080/",
          "height": 35
        },
        "outputId": "0708d95a-a504-4627-d97d-c112ce07df6a"
      },
      "source": [
        "# f = open(\"test.txt\",\"r\")\n",
        "# read from current cursor position with read size = 5\n",
        "f.read(5)"
      ],
      "execution_count": 8,
      "outputs": [
        {
          "output_type": "execute_result",
          "data": {
            "text/plain": [
              "'loves'"
            ]
          },
          "metadata": {
            "tags": []
          },
          "execution_count": 8
        }
      ]
    },
    {
      "cell_type": "markdown",
      "metadata": {
        "id": "Lce_BPspuDlq",
        "colab_type": "text"
      },
      "source": [
        "**tell()** returns the current pointer location.<br>\n",
        "**seek()** changes the current cursor position."
      ]
    },
    {
      "cell_type": "code",
      "metadata": {
        "id": "MI8qbcVyuQbW",
        "colab_type": "code",
        "colab": {
          "base_uri": "https://localhost:8080/",
          "height": 35
        },
        "outputId": "7c204535-740f-48a1-aca4-71631bde4429"
      },
      "source": [
        "# current cursor position\n",
        "f.tell()"
      ],
      "execution_count": 9,
      "outputs": [
        {
          "output_type": "execute_result",
          "data": {
            "text/plain": [
              "9"
            ]
          },
          "metadata": {
            "tags": []
          },
          "execution_count": 9
        }
      ]
    },
    {
      "cell_type": "code",
      "metadata": {
        "id": "LrPNTqTeuZuZ",
        "colab_type": "code",
        "colab": {
          "base_uri": "https://localhost:8080/",
          "height": 35
        },
        "outputId": "4a8bea10-7c89-425b-bdca-332533c1b6b7"
      },
      "source": [
        "#bring the file cursor to initial position\n",
        "f.seek(0)"
      ],
      "execution_count": 10,
      "outputs": [
        {
          "output_type": "execute_result",
          "data": {
            "text/plain": [
              "0"
            ]
          },
          "metadata": {
            "tags": []
          },
          "execution_count": 10
        }
      ]
    },
    {
      "cell_type": "code",
      "metadata": {
        "id": "gJGUI-hojGhG",
        "colab_type": "code",
        "colab": {
          "base_uri": "https://localhost:8080/",
          "height": 35
        },
        "outputId": "4ff1b505-ce72-4bf1-a1e0-5db42b639291"
      },
      "source": [
        "f.read(5)"
      ],
      "execution_count": 11,
      "outputs": [
        {
          "output_type": "execute_result",
          "data": {
            "text/plain": [
              "'God l'"
            ]
          },
          "metadata": {
            "tags": []
          },
          "execution_count": 11
        }
      ]
    },
    {
      "cell_type": "markdown",
      "metadata": {
        "id": "KAZTIQ0Ouk9r",
        "colab_type": "text"
      },
      "source": [
        "Reading a file line-by-line. <br>\n",
        "1. Using loop\n",
        "2. Using readline() method: This method reads a file till the newline, including the newline character."
      ]
    },
    {
      "cell_type": "code",
      "metadata": {
        "id": "ByvU6BSpuojX",
        "colab_type": "code",
        "colab": {
          "base_uri": "https://localhost:8080/",
          "height": 69
        },
        "outputId": "66f40610-e248-4f46-8ad5-013962ec11df"
      },
      "source": [
        "# Using loop\n",
        "f.seek(0)\n",
        "for line in f:\n",
        "  print(line)"
      ],
      "execution_count": 12,
      "outputs": [
        {
          "output_type": "stream",
          "text": [
            "God loves each of us\n",
            "\n",
            "as if there were only one of us.\n"
          ],
          "name": "stdout"
        }
      ]
    },
    {
      "cell_type": "code",
      "metadata": {
        "id": "WeifjDwdu1us",
        "colab_type": "code",
        "colab": {
          "base_uri": "https://localhost:8080/",
          "height": 35
        },
        "outputId": "9e375960-bf0b-4d26-bee9-7fad5e0cbcab"
      },
      "source": [
        "# Using readline()\n",
        "f = open(\"text.txt\", 'r')\n",
        "f.readline()"
      ],
      "execution_count": 13,
      "outputs": [
        {
          "output_type": "execute_result",
          "data": {
            "text/plain": [
              "'God loves each of us\\n'"
            ]
          },
          "metadata": {
            "tags": []
          },
          "execution_count": 13
        }
      ]
    },
    {
      "cell_type": "code",
      "metadata": {
        "id": "Sd_Tnoj2vIng",
        "colab_type": "code",
        "colab": {
          "base_uri": "https://localhost:8080/",
          "height": 35
        },
        "outputId": "134ab458-94ce-451d-e1e3-3b6013471ac2"
      },
      "source": [
        "# The curson remains there\n",
        "f.readline()"
      ],
      "execution_count": 14,
      "outputs": [
        {
          "output_type": "execute_result",
          "data": {
            "text/plain": [
              "'as if there were only one of us.'"
            ]
          },
          "metadata": {
            "tags": []
          },
          "execution_count": 14
        }
      ]
    },
    {
      "cell_type": "markdown",
      "metadata": {
        "id": "IXpNRvn7vfTc",
        "colab_type": "text"
      },
      "source": [
        "The **readlines()** method returns a list of remaining lines of the entire file. All these reading method return empty values when end of file (EOF) is reached."
      ]
    },
    {
      "cell_type": "code",
      "metadata": {
        "id": "wjDcW-OGvaqy",
        "colab_type": "code",
        "colab": {
          "base_uri": "https://localhost:8080/",
          "height": 35
        },
        "outputId": "1a2e1d8a-e811-4608-e607-dc7dadb3b115"
      },
      "source": [
        "# list of all the lines\n",
        "f.seek(0)\n",
        "f.readlines()"
      ],
      "execution_count": 15,
      "outputs": [
        {
          "output_type": "execute_result",
          "data": {
            "text/plain": [
              "['God loves each of us\\n', 'as if there were only one of us.']"
            ]
          },
          "metadata": {
            "tags": []
          },
          "execution_count": 15
        }
      ]
    },
    {
      "cell_type": "markdown",
      "metadata": {
        "id": "YdOT_5CPvH-e",
        "colab_type": "text"
      },
      "source": [
        "# 6. Renaming and Deleting Files"
      ]
    },
    {
      "cell_type": "markdown",
      "metadata": {
        "id": "5o4g0S0mwFK5",
        "colab_type": "text"
      },
      "source": [
        "There comes an **os** module in Python which brings the support of file **rename/delete** operations.\n",
        "\n",
        "So, to continue, first of all, you should import the **os** module in your Python script."
      ]
    },
    {
      "cell_type": "code",
      "metadata": {
        "id": "as38YP7Bv7YS",
        "colab_type": "code",
        "colab": {}
      },
      "source": [
        "# importing os module\n",
        "import os\n",
        "\n",
        "# make a new file\n",
        "f = open('great.txt', 'w')\n",
        "f.write('Thankyou mother nature')\n",
        "f.close()\n",
        "\n",
        "# Rename a file\n",
        "os.rename('great.txt', 'nature.txt')"
      ],
      "execution_count": 0,
      "outputs": []
    },
    {
      "cell_type": "code",
      "metadata": {
        "id": "m63v8CMXwgRm",
        "colab_type": "code",
        "colab": {
          "base_uri": "https://localhost:8080/",
          "height": 35
        },
        "outputId": "0887521c-ab5e-4c79-a5f8-b723b0cf9cc9"
      },
      "source": [
        "# open the file in the read mode and read it using readline()\n",
        "f = open('nature.txt', 'r')\n",
        "f.readline()"
      ],
      "execution_count": 27,
      "outputs": [
        {
          "output_type": "execute_result",
          "data": {
            "text/plain": [
              "'Thankyou mother nature'"
            ]
          },
          "metadata": {
            "tags": []
          },
          "execution_count": 27
        }
      ]
    },
    {
      "cell_type": "code",
      "metadata": {
        "id": "D-No6ugHwmPv",
        "colab_type": "code",
        "colab": {}
      },
      "source": [
        "# Delete a file \n",
        "os.remove('nature.txt')"
      ],
      "execution_count": 0,
      "outputs": []
    },
    {
      "cell_type": "code",
      "metadata": {
        "id": "Fn0FnaRHwnRp",
        "colab_type": "code",
        "colab": {
          "base_uri": "https://localhost:8080/",
          "height": 183
        },
        "outputId": "6694a4b4-e7fa-4e91-e75d-e9425fd84bc5"
      },
      "source": [
        "# Check again by opening and reading \n",
        "f = open('nature.txt', 'r')\n",
        "f.readline()\n"
      ],
      "execution_count": 30,
      "outputs": [
        {
          "output_type": "error",
          "ename": "FileNotFoundError",
          "evalue": "ignored",
          "traceback": [
            "\u001b[0;31m---------------------------------------------------------------------------\u001b[0m",
            "\u001b[0;31mFileNotFoundError\u001b[0m                         Traceback (most recent call last)",
            "\u001b[0;32m<ipython-input-30-7a4f6aa973d7>\u001b[0m in \u001b[0;36m<module>\u001b[0;34m()\u001b[0m\n\u001b[0;32m----> 1\u001b[0;31m \u001b[0mf\u001b[0m \u001b[0;34m=\u001b[0m \u001b[0mopen\u001b[0m\u001b[0;34m(\u001b[0m\u001b[0;34m'nature.txt'\u001b[0m\u001b[0;34m,\u001b[0m \u001b[0;34m'r'\u001b[0m\u001b[0;34m)\u001b[0m\u001b[0;34m\u001b[0m\u001b[0;34m\u001b[0m\u001b[0m\n\u001b[0m\u001b[1;32m      2\u001b[0m \u001b[0mf\u001b[0m\u001b[0;34m.\u001b[0m\u001b[0mreadline\u001b[0m\u001b[0;34m(\u001b[0m\u001b[0;34m)\u001b[0m\u001b[0;34m\u001b[0m\u001b[0;34m\u001b[0m\u001b[0m\n",
            "\u001b[0;31mFileNotFoundError\u001b[0m: [Errno 2] No such file or directory: 'nature.txt'"
          ]
        }
      ]
    },
    {
      "cell_type": "markdown",
      "metadata": {
        "id": "4DOCTH1Dwz2P",
        "colab_type": "text"
      },
      "source": [
        "# 7. File Management"
      ]
    },
    {
      "cell_type": "markdown",
      "metadata": {
        "id": "8a0NFunDw6ML",
        "colab_type": "text"
      },
      "source": [
        "If there are a large number of files to handle in your Python program, you can arrange your code within different directories to make things more manageable.\n",
        "\n",
        "A directory or folder is a collection of files and sub directories. Python has the os module, which provides us with many useful methods to work with directories (and files as well)."
      ]
    },
    {
      "cell_type": "markdown",
      "metadata": {
        "id": "nK5za7I95Ozz",
        "colab_type": "text"
      },
      "source": [
        "### GET CURRENT DIRECTORY\n",
        "We can get the present working directory using the **getcwd()** method.\n",
        "\n",
        "This method returns the current working directory in the form of a string. "
      ]
    },
    {
      "cell_type": "code",
      "metadata": {
        "id": "BLg-ySytw5Yu",
        "colab_type": "code",
        "colab": {
          "base_uri": "https://localhost:8080/",
          "height": 35
        },
        "outputId": "0bd608e6-02b9-42f7-f370-016f94e6c9ee"
      },
      "source": [
        "# import os and get current directory\n",
        "import os\n",
        "os.getcwd()"
      ],
      "execution_count": 67,
      "outputs": [
        {
          "output_type": "execute_result",
          "data": {
            "text/plain": [
              "'/content'"
            ]
          },
          "metadata": {
            "tags": []
          },
          "execution_count": 67
        }
      ]
    },
    {
      "cell_type": "code",
      "metadata": {
        "id": "0MLEiNHI5WkW",
        "colab_type": "code",
        "colab": {}
      },
      "source": [
        ""
      ],
      "execution_count": 0,
      "outputs": []
    },
    {
      "cell_type": "markdown",
      "metadata": {
        "id": "3ZgsOJ0_5hKs",
        "colab_type": "text"
      },
      "source": [
        "### CHANGE DIRECTORY\n",
        "We can change the current working directory using the **chdir()** method.\n",
        "\n",
        "The new path that we want to change to must be supplied as a string to this method. We can use both forward slash (/) or the backward slash (\\) to separate path elements."
      ]
    },
    {
      "cell_type": "code",
      "metadata": {
        "id": "pyiSaDaN5fe4",
        "colab_type": "code",
        "colab": {}
      },
      "source": [
        "# change directory\n",
        "os.chdir('/content')"
      ],
      "execution_count": 0,
      "outputs": []
    },
    {
      "cell_type": "code",
      "metadata": {
        "id": "8ByPbJRk5zZ-",
        "colab_type": "code",
        "colab": {
          "base_uri": "https://localhost:8080/",
          "height": 35
        },
        "outputId": "5dc59229-329b-4f87-e71e-eb28f44f0daa"
      },
      "source": [
        "# get current working directory\n",
        "os.getcwd()"
      ],
      "execution_count": 71,
      "outputs": [
        {
          "output_type": "execute_result",
          "data": {
            "text/plain": [
              "'/content'"
            ]
          },
          "metadata": {
            "tags": []
          },
          "execution_count": 71
        }
      ]
    },
    {
      "cell_type": "markdown",
      "metadata": {
        "id": "_7MKZ_LB6LQS",
        "colab_type": "text"
      },
      "source": [
        "### LIST DIRECTORIES AND FILES\n",
        "All files and sub directories inside a directory can be known using the **listdir()** method."
      ]
    },
    {
      "cell_type": "code",
      "metadata": {
        "id": "FAaQTmTg6N_a",
        "colab_type": "code",
        "colab": {
          "base_uri": "https://localhost:8080/",
          "height": 35
        },
        "outputId": "2ff6b2c5-0bf8-442b-a22b-e0259898bd24"
      },
      "source": [
        "# get list of directory\n",
        "os.listdir(os.getcwd())"
      ],
      "execution_count": 80,
      "outputs": [
        {
          "output_type": "execute_result",
          "data": {
            "text/plain": [
              "['.config', 'raga', 'sample_data']"
            ]
          },
          "metadata": {
            "tags": []
          },
          "execution_count": 80
        }
      ]
    },
    {
      "cell_type": "markdown",
      "metadata": {
        "id": "sCUCABwg6dfg",
        "colab_type": "text"
      },
      "source": [
        "### MAKE NEW DIRECTORY\n",
        "Using **mkdir()** method"
      ]
    },
    {
      "cell_type": "code",
      "metadata": {
        "id": "MGPYW75A6W2y",
        "colab_type": "code",
        "colab": {}
      },
      "source": [
        "# make a directory\n",
        "os.mkdir('test')"
      ],
      "execution_count": 0,
      "outputs": []
    },
    {
      "cell_type": "markdown",
      "metadata": {
        "id": "1lP4b-Kh7Clc",
        "colab_type": "text"
      },
      "source": [
        "### REMOVING DIRECTORY\n",
        "\n",
        "- Empty directory: **os.rmdir()**\n",
        "- Non-empty directory: import the **shutil** module and use **rmtree()** inside the shutil module"
      ]
    },
    {
      "cell_type": "code",
      "metadata": {
        "id": "X2V1SJ5l68bU",
        "colab_type": "code",
        "colab": {}
      },
      "source": [
        "# remove an empty directory\n",
        "os.rmdir('test')"
      ],
      "execution_count": 0,
      "outputs": []
    },
    {
      "cell_type": "code",
      "metadata": {
        "id": "9gqMl3Qs6-Rr",
        "colab_type": "code",
        "colab": {}
      },
      "source": [
        "# make a non empty directory and remove it\n",
        "os.mkdir('raga')\n",
        "os.chdir('./raga') # ./ means current directory\n",
        "f = open('text.txt', 'w')\n",
        "f.write('Indian classical music')\n",
        "os.chdir('../') # ../ means parent directory\n",
        " "
      ],
      "execution_count": 0,
      "outputs": []
    },
    {
      "cell_type": "code",
      "metadata": {
        "id": "W21Zabok8pia",
        "colab_type": "code",
        "colab": {
          "base_uri": "https://localhost:8080/",
          "height": 166
        },
        "outputId": "c505091c-a6cc-4eb0-a9df-27f3b8225f0f"
      },
      "source": [
        "# try to remove now\n",
        "os.rmdir('raga')"
      ],
      "execution_count": 81,
      "outputs": [
        {
          "output_type": "error",
          "ename": "OSError",
          "evalue": "ignored",
          "traceback": [
            "\u001b[0;31m---------------------------------------------------------------------------\u001b[0m",
            "\u001b[0;31mOSError\u001b[0m                                   Traceback (most recent call last)",
            "\u001b[0;32m<ipython-input-81-c47ceb1c90a1>\u001b[0m in \u001b[0;36m<module>\u001b[0;34m()\u001b[0m\n\u001b[0;32m----> 1\u001b[0;31m \u001b[0mos\u001b[0m\u001b[0;34m.\u001b[0m\u001b[0mrmdir\u001b[0m\u001b[0;34m(\u001b[0m\u001b[0;34m'raga'\u001b[0m\u001b[0;34m)\u001b[0m\u001b[0;34m\u001b[0m\u001b[0;34m\u001b[0m\u001b[0m\n\u001b[0m",
            "\u001b[0;31mOSError\u001b[0m: [Errno 39] Directory not empty: 'raga'"
          ]
        }
      ]
    },
    {
      "cell_type": "code",
      "metadata": {
        "id": "A0SULb488v_x",
        "colab_type": "code",
        "colab": {}
      },
      "source": [
        "# remove it with shutil\n",
        "import shutil\n",
        "\n",
        "shutil.rmtree('raga')"
      ],
      "execution_count": 0,
      "outputs": []
    },
    {
      "cell_type": "code",
      "metadata": {
        "id": "OgsTShUB-qwT",
        "colab_type": "code",
        "colab": {
          "base_uri": "https://localhost:8080/",
          "height": 35
        },
        "outputId": "4e3d13a0-ee2c-4724-f557-ac9fcd265670"
      },
      "source": [
        "os.listdir(os.getcwd())"
      ],
      "execution_count": 83,
      "outputs": [
        {
          "output_type": "execute_result",
          "data": {
            "text/plain": [
              "['.config', 'sample_data']"
            ]
          },
          "metadata": {
            "tags": []
          },
          "execution_count": 83
        }
      ]
    },
    {
      "cell_type": "code",
      "metadata": {
        "id": "ftwqQG2WC2Qw",
        "colab_type": "code",
        "colab": {}
      },
      "source": [
        ""
      ],
      "execution_count": 0,
      "outputs": []
    }
  ]
}