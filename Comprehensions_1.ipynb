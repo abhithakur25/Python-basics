{
 "cells": [
  {
   "cell_type": "markdown",
   "id": "f8c84c56",
   "metadata": {},
   "source": [
    "# Comprehensions"
   ]
  },
  {
   "cell_type": "markdown",
   "id": "c5e2e71d",
   "metadata": {},
   "source": [
    "Comprehensions are syntactic constructs that enable sequences to be built from other sequences in a clear and concise manner. Here, we will cover list comprehensions and dictionary comprehensions. Let's watch the upcoming video to understand them better."
   ]
  },
  {
   "cell_type": "markdown",
   "id": "daa53e12",
   "metadata": {},
   "source": [
    "Using list comprehensions is much more concise and elegant than explicit 'for loops'. An example of creating a list using a loop is as follows:"
   ]
  },
  {
   "cell_type": "code",
   "execution_count": 1,
   "id": "9a564dd1",
   "metadata": {},
   "outputs": [
    {
     "data": {
      "text/plain": [
       "[2, 6, 15, 4, 8]"
      ]
     },
     "execution_count": 1,
     "metadata": {},
     "output_type": "execute_result"
    }
   ],
   "source": [
    "L1 = [10, 20, 30, 24, 18]\n",
    "L2 = [8, 14, 15, 20, 10]\n",
    "L3 = []\n",
    "for  i in range(len(L1)):\n",
    "    L3.append(L1[i] - L2[i])\n",
    "L3"
   ]
  },
  {
   "cell_type": "markdown",
   "id": "08be6639",
   "metadata": {},
   "source": [
    "You know this code from our earlier discussions. The same code using a list comprehension is as follows:"
   ]
  },
  {
   "cell_type": "code",
   "execution_count": 2,
   "id": "cd7f4645",
   "metadata": {},
   "outputs": [
    {
     "data": {
      "text/plain": [
       "[2, 6, 15, 4, 8]"
      ]
     },
     "execution_count": 2,
     "metadata": {},
     "output_type": "execute_result"
    }
   ],
   "source": [
    "# using list comprehension\n",
    "L1 = [10, 20, 30, 24, 18]\n",
    "L2 = [8, 14, 15, 20, 10]\n",
    "L3 = [L1[i] - L2[i] for i  in range(0, len(L1))]\n",
    "L3"
   ]
  },
  {
   "cell_type": "markdown",
   "id": "aba329b4",
   "metadata": {},
   "source": [
    "Now, based on your learning from the previous video, attempt the coding question given below."
   ]
  },
  {
   "cell_type": "markdown",
   "id": "bca20609",
   "metadata": {},
   "source": [
    "List Comprehension\n",
    "Description\n",
    "You are given an integer 'n' as the input. Create a list comprehension containing the squares of the integers from 1 till n^2 (including 1 and n), and print the list. \n",
    "\n",
    "For example, if the input is 4, the output should be a list as follows:\n",
    "\n",
    "[1, 4, 9, 16]\n",
    "\n",
    "The input integer 'n' is stored in the variable 'n'. "
   ]
  },
  {
   "cell_type": "code",
   "execution_count": 3,
   "id": "0540b736",
   "metadata": {},
   "outputs": [
    {
     "name": "stdout",
     "output_type": "stream",
     "text": [
      "4\n",
      "[1, 4, 9, 16]\n"
     ]
    }
   ],
   "source": [
    "n=int(input())\n",
    "L3=[i**2 for i in range(1, n+1)]\n",
    "print(L3)"
   ]
  },
  {
   "cell_type": "markdown",
   "id": "14f23663",
   "metadata": {},
   "source": [
    "You can see that in the square brackets, you need to first put in the operation/output that you desire, followed by the loops from top to bottom. In the following video, you will learn how dictionary comprehensions work."
   ]
  },
  {
   "cell_type": "markdown",
   "id": "e045b7c9",
   "metadata": {},
   "source": [
    "Let’s look at an example to understand dictionary comprehension better. First, using the traditional approach, let’s create a dictionary that has the first ten even natural numbers as keys and the square of each number as the value to the key."
   ]
  },
  {
   "cell_type": "code",
   "execution_count": 5,
   "id": "1570a8dd",
   "metadata": {},
   "outputs": [
    {
     "data": {
      "text/plain": [
       "{2: 4,\n",
       " 4: 16,\n",
       " 6: 36,\n",
       " 8: 64,\n",
       " 10: 100,\n",
       " 12: 144,\n",
       " 14: 196,\n",
       " 16: 256,\n",
       " 18: 324,\n",
       " 20: 400,\n",
       " 22: 484,\n",
       " 24: 576,\n",
       " 26: 676,\n",
       " 28: 784,\n",
       " 30: 900,\n",
       " 32: 1024,\n",
       " 34: 1156,\n",
       " 36: 1296,\n",
       " 38: 1444,\n",
       " 40: 1600,\n",
       " 42: 1764,\n",
       " 44: 1936,\n",
       " 46: 2116,\n",
       " 48: 2304,\n",
       " 50: 2500,\n",
       " 52: 2704,\n",
       " 54: 2916,\n",
       " 56: 3136,\n",
       " 58: 3364,\n",
       " 60: 3600,\n",
       " 62: 3844,\n",
       " 64: 4096,\n",
       " 66: 4356,\n",
       " 68: 4624,\n",
       " 70: 4900,\n",
       " 72: 5184,\n",
       " 74: 5476,\n",
       " 76: 5776,\n",
       " 78: 6084,\n",
       " 80: 6400,\n",
       " 82: 6724,\n",
       " 84: 7056,\n",
       " 86: 7396,\n",
       " 88: 7744,\n",
       " 90: 8100,\n",
       " 92: 8464,\n",
       " 94: 8836,\n",
       " 96: 9216,\n",
       " 98: 9604}"
      ]
     },
     "execution_count": 5,
     "metadata": {},
     "output_type": "execute_result"
    }
   ],
   "source": [
    "\"\"\" Creating a dictionary consisting of even natural numbers as key \n",
    "    and square of each element as value \"\"\"\n",
    "\n",
    "input_list = list(range(1,100))\n",
    "output_dict = {}\n",
    "\n",
    "for val in input_list:\n",
    "    if val%2==0:\n",
    "        output_dict[val]=val**2\n",
    "output_dict\n"
   ]
  },
  {
   "cell_type": "code",
   "execution_count": 6,
   "id": "d2be5336",
   "metadata": {},
   "outputs": [
    {
     "name": "stdout",
     "output_type": "stream",
     "text": [
      "{2: 4, 4: 16, 6: 36, 8: 64, 10: 100, 12: 144, 14: 196, 16: 256, 18: 324, 20: 400, 22: 484, 24: 576, 26: 676, 28: 784, 30: 900, 32: 1024, 34: 1156, 36: 1296, 38: 1444, 40: 1600, 42: 1764, 44: 1936, 46: 2116, 48: 2304, 50: 2500, 52: 2704, 54: 2916, 56: 3136, 58: 3364, 60: 3600, 62: 3844, 64: 4096, 66: 4356, 68: 4624, 70: 4900, 72: 5184, 74: 5476, 76: 5776, 78: 6084, 80: 6400, 82: 6724, 84: 7056, 86: 7396, 88: 7744, 90: 8100, 92: 8464, 94: 8836, 96: 9216, 98: 9604}\n"
     ]
    }
   ],
   "source": [
    "# The same code in terms of dictionary comprehension is as follows:\n",
    "#Using dictionary comprehension\n",
    "\n",
    "output_dict1 = {val:val**2 for val in input_list if val%2==0}\n",
    "print(output_dict1)\n"
   ]
  },
  {
   "cell_type": "markdown",
   "id": "f96c79f9",
   "metadata": {},
   "source": [
    "You can see that the comprehension is inside curly brackets, representing that it is dictionary comprehension. The expression inside the brackets starts with the operation/output that you desire, and then loops and conditionals occur in the same order as the regular code.\n",
    "\n",
    "Attempt the following quizzes and coding assessment to further deepen your understanding of 'Comprehensions'."
   ]
  },
  {
   "cell_type": "code",
   "execution_count": 7,
   "id": "3619406a",
   "metadata": {},
   "outputs": [
    {
     "name": "stdout",
     "output_type": "stream",
     "text": [
      "['old', 'apple', 'item', 'euphoria']\n"
     ]
    }
   ],
   "source": [
    "\"\"\"Description\n",
    "Extract the words that start with a vowel from a list \n",
    "input_list=[wood, old, apple, big, item, euphoria] using list comprehensions.\n",
    "\n",
    "Sample Input:\n",
    "\n",
    "['wood','old','apple','big','item','euphoria']\n",
    "\n",
    "Sample Output:\n",
    "\n",
    "['old', 'apple', 'item', 'euphoria']\"\"\"\n",
    "\n",
    "input_list=['wood', 'old', 'apple', 'big', 'item', 'euphoria']\n",
    "vowels=[i for i in input_list if i[0] in \"aeiou\"]\n",
    "print(vowels)\n"
   ]
  },
  {
   "cell_type": "code",
   "execution_count": 8,
   "id": "1f661507",
   "metadata": {},
   "outputs": [
    {
     "name": "stdout",
     "output_type": "stream",
     "text": [
      "['ad', 'ae', 'af', 'bd', 'be', 'bf', 'cd', 'ce', 'cf']\n"
     ]
    }
   ],
   "source": [
    "# What will the output of the following code be?\n",
    "\n",
    "print([i+j for i in \"abc\" for j in \"def\"])\n"
   ]
  },
  {
   "cell_type": "code",
   "execution_count": 9,
   "id": "5482bbdf",
   "metadata": {},
   "outputs": [
    {
     "name": "stdout",
     "output_type": "stream",
     "text": [
      "{'A': 'aaa', 'C': 'ccc', 'B': 'bbb', 'D': 'ddd'}\n"
     ]
    }
   ],
   "source": [
    "# What will the output of the following code be?\n",
    "\n",
    "d = {x.upper(): x*3 for x in 'acbd'}\n",
    "print(d)"
   ]
  },
  {
   "cell_type": "code",
   "execution_count": null,
   "id": "da2f5f4c",
   "metadata": {},
   "outputs": [],
   "source": []
  }
 ],
 "metadata": {
  "kernelspec": {
   "display_name": "Python 3 (ipykernel)",
   "language": "python",
   "name": "python3"
  },
  "language_info": {
   "codemirror_mode": {
    "name": "ipython",
    "version": 3
   },
   "file_extension": ".py",
   "mimetype": "text/x-python",
   "name": "python",
   "nbconvert_exporter": "python",
   "pygments_lexer": "ipython3",
   "version": "3.9.7"
  }
 },
 "nbformat": 4,
 "nbformat_minor": 5
}
