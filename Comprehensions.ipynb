{
 "cells": [
  {
   "cell_type": "markdown",
   "id": "3f2ba5d7",
   "metadata": {},
   "source": [
    "# Comprehensions"
   ]
  },
  {
   "cell_type": "code",
   "execution_count": null,
   "id": "808810e9",
   "metadata": {},
   "outputs": [],
   "source": [
    "L1=[10, 20, 30, 24, 18]\n",
    "L2=[8, 14, 15, 20, 10]\n",
    "L3=[]\n",
    "for i in range(len(L1)):\n",
    "    L3.append(L1[i]-L2[i])\n",
    "print(L3)\n"
   ]
  },
  {
   "cell_type": "code",
   "execution_count": null,
   "id": "ab9f454c",
   "metadata": {},
   "outputs": [],
   "source": [
    "L1=[10, 20, 30, 24, 18]\n",
    "L2=[8, 14, 15, 20, 10]\n",
    "L3=[L1[i]-L2[i] for i in range(0, len(L1))]\n",
    "print(L3)"
   ]
  },
  {
   "cell_type": "markdown",
   "id": "0b5dce4a",
   "metadata": {},
   "source": [
    "You are given an integer 'n' as the input. Create a list comprehension containing the squares of the integers from 1 till n^2 (including 1 and n), and print the list. "
   ]
  },
  {
   "cell_type": "code",
   "execution_count": null,
   "id": "1065331e",
   "metadata": {},
   "outputs": [],
   "source": [
    "n=int(input())\n",
    "L4=[i**2 for i in range(1, n+1)]\n",
    "L4"
   ]
  },
  {
   "cell_type": "markdown",
   "id": "6e77aae4",
   "metadata": {},
   "source": [
    "Extract the words that start with a vowel from a list input_list=[wood, old, apple, big, item, euphoria] using list comprehensions.\n",
    "\n",
    "Sample Input:\n",
    "\n",
    "['wood','old','apple','big','item','euphoria']\n",
    "\n",
    "Sample Output:\n",
    "\n",
    "﻿['old', 'apple', 'item', 'euphoria']"
   ]
  },
  {
   "cell_type": "code",
   "execution_count": 2,
   "id": "216b091e",
   "metadata": {},
   "outputs": [],
   "source": [
    "input_list=['wood', 'old', 'apple', 'big', 'item', 'euphoria']"
   ]
  },
  {
   "cell_type": "code",
   "execution_count": 5,
   "id": "73efb5bd",
   "metadata": {},
   "outputs": [
    {
     "data": {
      "text/plain": [
       "['old', 'apple', 'item', 'euphoria']"
      ]
     },
     "execution_count": 5,
     "metadata": {},
     "output_type": "execute_result"
    }
   ],
   "source": [
    "vowels=[i for i in input_list if i[0] in \"aeiou\"]\n",
    "vowels"
   ]
  },
  {
   "cell_type": "markdown",
   "id": "49c4d9b0",
   "metadata": {},
   "source": [
    "Following is the code to create a dictionary where the keys are multiples of 3 among the first 100 natural numbers, and each value is the cube of the key."
   ]
  },
  {
   "cell_type": "code",
   "execution_count": 6,
   "id": "1745ee4a",
   "metadata": {},
   "outputs": [],
   "source": [
    "input_list = list(range(1,100))\n",
    "output_dict = {}\n",
    "\n",
    "for val in input_list:\n",
    "    if val % 3 == 0:\n",
    "        output_dict[val] = val**3"
   ]
  },
  {
   "cell_type": "markdown",
   "id": "33d32c69",
   "metadata": {},
   "source": [
    "Now, what would be corresponding dictionary comprehension for the code involved in dictionary creation? "
   ]
  },
  {
   "cell_type": "code",
   "execution_count": 10,
   "id": "3bf2eb7a",
   "metadata": {},
   "outputs": [],
   "source": [
    "\n",
    "output_dict= {val : val**3 for val in input_list if val % 3 == 0}"
   ]
  },
  {
   "cell_type": "code",
   "execution_count": 11,
   "id": "f69204bc",
   "metadata": {},
   "outputs": [
    {
     "data": {
      "text/plain": [
       "{3: 27,\n",
       " 6: 216,\n",
       " 9: 729,\n",
       " 12: 1728,\n",
       " 15: 3375,\n",
       " 18: 5832,\n",
       " 21: 9261,\n",
       " 24: 13824,\n",
       " 27: 19683,\n",
       " 30: 27000,\n",
       " 33: 35937,\n",
       " 36: 46656,\n",
       " 39: 59319,\n",
       " 42: 74088,\n",
       " 45: 91125,\n",
       " 48: 110592,\n",
       " 51: 132651,\n",
       " 54: 157464,\n",
       " 57: 185193,\n",
       " 60: 216000,\n",
       " 63: 250047,\n",
       " 66: 287496,\n",
       " 69: 328509,\n",
       " 72: 373248,\n",
       " 75: 421875,\n",
       " 78: 474552,\n",
       " 81: 531441,\n",
       " 84: 592704,\n",
       " 87: 658503,\n",
       " 90: 729000,\n",
       " 93: 804357,\n",
       " 96: 884736,\n",
       " 99: 970299}"
      ]
     },
     "execution_count": 11,
     "metadata": {},
     "output_type": "execute_result"
    }
   ],
   "source": [
    "output_dict"
   ]
  },
  {
   "cell_type": "code",
   "execution_count": 12,
   "id": "55f0c38a",
   "metadata": {},
   "outputs": [
    {
     "name": "stdout",
     "output_type": "stream",
     "text": [
      "['ad', 'ae', 'af', 'bd', 'be', 'bf', 'cd', 'ce', 'cf']\n"
     ]
    }
   ],
   "source": [
    "# What will the output of the following code be?\n",
    "\n",
    "print([i+j for i in \"abc\" for j in \"def\"])"
   ]
  },
  {
   "cell_type": "code",
   "execution_count": 13,
   "id": "7d986904",
   "metadata": {},
   "outputs": [
    {
     "name": "stdout",
     "output_type": "stream",
     "text": [
      "{'A': 'aaa', 'C': 'ccc', 'B': 'bbb', 'D': 'ddd'}\n"
     ]
    }
   ],
   "source": [
    "# What will the output of the following code be?\n",
    "\n",
    "d = {x.upper(): x*3 for x in 'acbd'}\n",
    "print(d)"
   ]
  },
  {
   "cell_type": "code",
   "execution_count": null,
   "id": "95553522",
   "metadata": {},
   "outputs": [],
   "source": []
  }
 ],
 "metadata": {
  "kernelspec": {
   "display_name": "Python 3 (ipykernel)",
   "language": "python",
   "name": "python3"
  },
  "language_info": {
   "codemirror_mode": {
    "name": "ipython",
    "version": 3
   },
   "file_extension": ".py",
   "mimetype": "text/x-python",
   "name": "python",
   "nbconvert_exporter": "python",
   "pygments_lexer": "ipython3",
   "version": "3.9.7"
  }
 },
 "nbformat": 4,
 "nbformat_minor": 5
}
