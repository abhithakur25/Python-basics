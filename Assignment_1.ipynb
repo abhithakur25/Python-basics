{
  "nbformat": 4,
  "nbformat_minor": 0,
  "metadata": {
    "colab": {
      "provenance": [],
      "collapsed_sections": []
    },
    "kernelspec": {
      "name": "python3",
      "display_name": "Python 3"
    }
  },
  "cells": [
    {
      "cell_type": "markdown",
      "metadata": {
        "id": "jfEgvQZgc6lZ"
      },
      "source": [
        "# Assignment - 1"
      ]
    },
    {
      "cell_type": "markdown",
      "metadata": {
        "id": "2UA3QnQCckUY"
      },
      "source": [
        "##Q. Print pattern  \n",
        "Print this pattern using only print statements\n",
        "\n",
        "<img src=\"https://drive.google.com/uc?id=1ZliJDrQ9FDk6vTQzG7Yx-qg_KSQt1z-q\" alt=\"Drawing\" style=\"width: 200px;\"/>"
      ]
    },
    {
      "cell_type": "code",
      "metadata": {
        "id": "y4gmtDhZdDkZ"
      },
      "source": [
        "## Your Code here"
      ],
      "execution_count": null,
      "outputs": []
    },
    {
      "cell_type": "markdown",
      "metadata": {
        "id": "Qe2rpZ_VeD94"
      },
      "source": [
        "##Q. Pretty Printing\n",
        "First create and assign two variables. One for height of a person (in feet) and another for their age (in years). <br>\n",
        "Then print this statement using format method, <br>\n",
        "(We have taken 24 as age and 6.2 as height but they should be variable)\n",
        "> Hari is 24 years old and 6.2 feet tall"
      ]
    },
    {
      "cell_type": "code",
      "metadata": {
        "id": "mURw0PZ3YJlW"
      },
      "source": [
        "## Your Code here"
      ],
      "execution_count": null,
      "outputs": []
    },
    {
      "cell_type": "markdown",
      "metadata": {
        "id": "z_qNFBNrf5In"
      },
      "source": [
        "##Q. Yearly Time\n",
        "Create and assign 4 variables - (days, hours, minutes, seconds) to represent the number of days in a year, number of hours in a day, number of minutes in an hour and number of seconds in a minute respectively\n",
        "\n",
        "Now write a python program that uses arithmetic operators to compute the number of seconds in a year."
      ]
    },
    {
      "cell_type": "code",
      "metadata": {
        "id": "sEz0gW4CIGdF"
      },
      "source": [
        "## Your Code Here"
      ],
      "execution_count": null,
      "outputs": []
    },
    {
      "cell_type": "markdown",
      "metadata": {
        "id": "Vz9aVtOlJOH7"
      },
      "source": [
        "##Q. Dual Repetition\n",
        "Write a program that takes as input some text from a user and then prints it twice to the screen."
      ]
    },
    {
      "cell_type": "code",
      "metadata": {
        "id": "aFAF7077JMbq"
      },
      "source": [
        "## Your Code Here"
      ],
      "execution_count": null,
      "outputs": []
    },
    {
      "cell_type": "markdown",
      "metadata": {
        "id": "NkMbIrm1IJQh"
      },
      "source": [
        "##Q. Powerful Remainder\n",
        "Write a program that takes 3 inputs $a$, $b$ and $c$ and prints the remainder when $c$ divides $a^b$"
      ]
    },
    {
      "cell_type": "code",
      "metadata": {
        "id": "mhZQ4WrfHuAC"
      },
      "source": [
        "## Your Code Here"
      ],
      "execution_count": null,
      "outputs": []
    },
    {
      "cell_type": "markdown",
      "metadata": {
        "id": "WmHUVSNVI5St"
      },
      "source": [
        "##Q. Interest Compounded\n",
        "The Formula for computing compound interest is as follows - \n",
        "\\begin{equation}\n",
        "A = P(1 + \\frac{r}{n})^{nt}\n",
        "\\end{equation}\n",
        "Write a program that takes as inputs $P, r, n, t$ and prints the total amount that has to be paid."
      ]
    },
    {
      "cell_type": "code",
      "metadata": {
        "id": "vhp3_Ta6I34s"
      },
      "source": [
        "## Your Code Here"
      ],
      "execution_count": null,
      "outputs": []
    }
  ]
}